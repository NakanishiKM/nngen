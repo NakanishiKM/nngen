{
 "cells": [
  {
   "cell_type": "code",
   "execution_count": 1,
   "metadata": {},
   "outputs": [],
   "source": [
    "import os\n",
    "import sys\n",
    "import torch\n",
    "import torchvision\n",
    "import nngen as ng\n",
    "import numpy as np\n",
    "import matplotlib.pyplot as plt\n",
    "from PIL import Image"
   ]
  },
  {
   "cell_type": "code",
   "execution_count": 2,
   "metadata": {},
   "outputs": [
    {
     "name": "stderr",
     "output_type": "stream",
     "text": [
      "Downloading: \"https://download.pytorch.org/models/vgg11-8a719046.pth\" to /home/sefutsu/.cache/torch/hub/checkpoints/vgg11-8a719046.pth\n",
      "100.0%\n"
     ]
    }
   ],
   "source": [
    "vgg11 = torchvision.models.vgg11(weights=torchvision.models.VGG11_Weights.DEFAULT)"
   ]
  },
  {
   "cell_type": "code",
   "execution_count": 3,
   "metadata": {},
   "outputs": [
    {
     "data": {
      "text/plain": [
       "VGG(\n",
       "  (features): Sequential(\n",
       "    (0): Conv2d(3, 64, kernel_size=(3, 3), stride=(1, 1), padding=(1, 1))\n",
       "    (1): ReLU(inplace=True)\n",
       "    (2): MaxPool2d(kernel_size=2, stride=2, padding=0, dilation=1, ceil_mode=False)\n",
       "    (3): Conv2d(64, 128, kernel_size=(3, 3), stride=(1, 1), padding=(1, 1))\n",
       "    (4): ReLU(inplace=True)\n",
       "    (5): MaxPool2d(kernel_size=2, stride=2, padding=0, dilation=1, ceil_mode=False)\n",
       "    (6): Conv2d(128, 256, kernel_size=(3, 3), stride=(1, 1), padding=(1, 1))\n",
       "    (7): ReLU(inplace=True)\n",
       "    (8): Conv2d(256, 256, kernel_size=(3, 3), stride=(1, 1), padding=(1, 1))\n",
       "    (9): ReLU(inplace=True)\n",
       "    (10): MaxPool2d(kernel_size=2, stride=2, padding=0, dilation=1, ceil_mode=False)\n",
       "    (11): Conv2d(256, 512, kernel_size=(3, 3), stride=(1, 1), padding=(1, 1))\n",
       "    (12): ReLU(inplace=True)\n",
       "    (13): Conv2d(512, 512, kernel_size=(3, 3), stride=(1, 1), padding=(1, 1))\n",
       "    (14): ReLU(inplace=True)\n",
       "    (15): MaxPool2d(kernel_size=2, stride=2, padding=0, dilation=1, ceil_mode=False)\n",
       "    (16): Conv2d(512, 512, kernel_size=(3, 3), stride=(1, 1), padding=(1, 1))\n",
       "    (17): ReLU(inplace=True)\n",
       "    (18): Conv2d(512, 512, kernel_size=(3, 3), stride=(1, 1), padding=(1, 1))\n",
       "    (19): ReLU(inplace=True)\n",
       "    (20): MaxPool2d(kernel_size=2, stride=2, padding=0, dilation=1, ceil_mode=False)\n",
       "  )\n",
       "  (avgpool): AdaptiveAvgPool2d(output_size=(7, 7))\n",
       "  (classifier): Sequential(\n",
       "    (0): Linear(in_features=25088, out_features=4096, bias=True)\n",
       "    (1): ReLU(inplace=True)\n",
       "    (2): Dropout(p=0.5, inplace=False)\n",
       "    (3): Linear(in_features=4096, out_features=4096, bias=True)\n",
       "    (4): ReLU(inplace=True)\n",
       "    (5): Dropout(p=0.5, inplace=False)\n",
       "    (6): Linear(in_features=4096, out_features=1000, bias=True)\n",
       "  )\n",
       ")"
      ]
     },
     "execution_count": 3,
     "metadata": {},
     "output_type": "execute_result"
    }
   ],
   "source": [
    "vgg11"
   ]
  },
  {
   "cell_type": "markdown",
   "metadata": {},
   "source": [
    "### 手書きGrad-CAM"
   ]
  },
  {
   "cell_type": "code",
   "execution_count": 4,
   "metadata": {},
   "outputs": [],
   "source": [
    "class Conv:\n",
    "    def __init__(self, in_channels, out_channels, params=None, pool=True):\n",
    "        self.conv = torch.nn.Conv2d(in_channels=in_channels, out_channels=out_channels, kernel_size=(3, 3), stride=(1, 1), padding=(1, 1))\n",
    "        self.pool = pool\n",
    "        self.set(params)\n",
    "    def set(self, params=None):\n",
    "        if params is not None:\n",
    "            self.conv.weight = params.weight\n",
    "            self.conv.bias = params.bias\n",
    "    def forward(self, x):\n",
    "        conved = self.conv(x)\n",
    "        out = torch.relu(conved)\n",
    "        if self.pool:\n",
    "            out = torch.nn.MaxPool2d(kernel_size=2, stride=2, padding=0)(out)\n",
    "        return out\n",
    "\n",
    "class Linear:\n",
    "    def __init__(self, in_features, out_features, params=None, relu=True):\n",
    "        self.linear = torch.nn.Linear(in_features=in_features, out_features=out_features, bias=True)\n",
    "        self.relu = relu\n",
    "        self.set(params)\n",
    "    def set(self, params=None):\n",
    "        if params is not None:\n",
    "            self.linear.weight = params.weight\n",
    "            self.linear.bias = params.bias\n",
    "    def forward(self, x):\n",
    "        out = self.linear(x)\n",
    "        if self.relu:\n",
    "            out = torch.relu(out)\n",
    "        return out"
   ]
  },
  {
   "cell_type": "code",
   "execution_count": 5,
   "metadata": {},
   "outputs": [
    {
     "name": "stdout",
     "output_type": "stream",
     "text": [
      "torch.Size([1, 3, 224, 224])\n"
     ]
    }
   ],
   "source": [
    "img_path = \"african_elephant.jpg\"\n",
    "img = Image.open(img_path)\n",
    "img = torchvision.models.VGG11_Weights.IMAGENET1K_V1.transforms()(img)\n",
    "tx = img[None]\n",
    "print(tx.shape)"
   ]
  },
  {
   "cell_type": "code",
   "execution_count": 6,
   "metadata": {},
   "outputs": [
    {
     "name": "stdout",
     "output_type": "stream",
     "text": [
      "torch.Size([1, 512, 7, 7])\n"
     ]
    }
   ],
   "source": [
    "ty1 = Conv(3, 64, vgg11.features[0]).forward(tx)\n",
    "ty2 = Conv(64, 128, vgg11.features[3]).forward(ty1)\n",
    "ty3 = Conv(128, 256, vgg11.features[6], False).forward(ty2)\n",
    "ty4 = Conv(256, 256, vgg11.features[8]).forward(ty3)\n",
    "ty5 = Conv(256, 512, vgg11.features[11], False).forward(ty4)\n",
    "ty6 = Conv(512, 512, vgg11.features[13]).forward(ty5)\n",
    "ty7 = Conv(512, 512, vgg11.features[16], False).forward(ty6)\n",
    "ty = Conv(512, 512, vgg11.features[18]).forward(ty7)\n",
    "print(ty.shape)"
   ]
  },
  {
   "cell_type": "code",
   "execution_count": 7,
   "metadata": {},
   "outputs": [
    {
     "name": "stdout",
     "output_type": "stream",
     "text": [
      "torch.Size([1, 1000])\n"
     ]
    }
   ],
   "source": [
    "# z = torch.nn.AvgPool2d(stride=1, kernel_size=1, padding=0)(y)\n",
    "tz1 = torch.flatten(ty, 1)\n",
    "tz2 = Linear(25088, 4096, vgg11.classifier[0]).forward(tz1)\n",
    "tz3 = Linear(4096, 4096, vgg11.classifier[3]).forward(tz2)\n",
    "tz = Linear(4096, 1000, vgg11.classifier[6], False).forward(tz3)\n",
    "print(tz.shape)"
   ]
  },
  {
   "cell_type": "code",
   "execution_count": 8,
   "metadata": {},
   "outputs": [
    {
     "name": "stdout",
     "output_type": "stream",
     "text": [
      "386\n"
     ]
    }
   ],
   "source": [
    "torch_res = tz[0]\n",
    "ans = tz.argmax(1).item()\n",
    "print(ans)"
   ]
  },
  {
   "cell_type": "code",
   "execution_count": 9,
   "metadata": {},
   "outputs": [
    {
     "name": "stdout",
     "output_type": "stream",
     "text": [
      "(512, 7, 7)\n"
     ]
    }
   ],
   "source": [
    "ty.retain_grad()\n",
    "tz[0][ans].backward()\n",
    "tdA = ty.grad[0].numpy()\n",
    "print(tdA.shape)\n",
    "tA = ty[0].detach().numpy()"
   ]
  },
  {
   "cell_type": "code",
   "execution_count": 10,
   "metadata": {},
   "outputs": [
    {
     "name": "stdout",
     "output_type": "stream",
     "text": [
      "(7, 7)\n"
     ]
    }
   ],
   "source": [
    "def relu(x):\n",
    "    return np.where(x > 0, x, np.zeros_like(x))\n",
    "\n",
    "tw = tdA.sum((1, 2)) / 49\n",
    "twA = (np.tile(tw, (7, 7, 1)).transpose((2, 0, 1))) * tA\n",
    "tcam = relu(twA.sum(0))\n",
    "print(tcam.shape)"
   ]
  },
  {
   "cell_type": "code",
   "execution_count": 11,
   "metadata": {},
   "outputs": [
    {
     "data": {
      "text/plain": [
       "<matplotlib.colorbar.Colorbar at 0x7fb453b8e9e0>"
      ]
     },
     "execution_count": 11,
     "metadata": {},
     "output_type": "execute_result"
    },
    {
     "data": {
      "image/png": "[encoded data removed]",
      "text/plain": [
       "<Figure size 640x480 with 2 Axes>"
      ]
     },
     "metadata": {},
     "output_type": "display_data"
    }
   ],
   "source": [
    "plt.imshow(tcam)\n",
    "plt.colorbar()"
   ]
  },
  {
   "cell_type": "markdown",
   "metadata": {},
   "source": [
    "### VGG11 in NNgen"
   ]
  },
  {
   "cell_type": "code",
   "execution_count": 25,
   "metadata": {},
   "outputs": [],
   "source": [
    "# data types\n",
    "act_dtype = ng.int8\n",
    "weight_dtype = ng.int8\n",
    "bias_dtype = ng.int32\n",
    "scale_dtype = ng.int8\n",
    "sum_dtype = bias_dtype\n",
    "batchsize = 1"
   ]
  },
  {
   "cell_type": "code",
   "execution_count": 26,
   "metadata": {},
   "outputs": [],
   "source": [
    "class Conv:\n",
    "    def __init__(self, in_channels, out_channels, params=None, pool=True):\n",
    "        self.weight = ng.variable(dtype=weight_dtype, shape=(out_channels, 3, 3, in_channels))\n",
    "        self.bias = ng.variable(dtype=bias_dtype, shape=(self.weight.shape[0],))\n",
    "        self.scale = ng.variable(dtype=scale_dtype, shape=(self.weight.shape[0],))\n",
    "\n",
    "        self.pool = pool\n",
    "        self.set(params)\n",
    "    def set(self, params=None):\n",
    "        self.scale.set_value(np.ones(self.scale.shape))\n",
    "        if params is not None:\n",
    "            self.weight.set_value(params.weight.detach().numpy().transpose(0, 2, 3, 1))\n",
    "            self.bias.set_value(params.bias.detach().numpy())\n",
    "    def forward(self, x):\n",
    "        out = ng.conv2d(x, self.weight,\n",
    "                            strides=(1, 1, 1, 1),\n",
    "                            padding=1,\n",
    "                            bias=self.bias,\n",
    "                            scale=self.scale,\n",
    "                            act_func=ng.relu,\n",
    "                            dtype=act_dtype,\n",
    "                            sum_dtype=sum_dtype)\n",
    "        if self.pool:\n",
    "            pooled = ng.max_pool(out, ksize=(1, 2, 2, 1), strides=(1, 2, 2, 1), padding=0)\n",
    "            return pooled\n",
    "        else:\n",
    "            return out\n",
    "\n",
    "class Linear:\n",
    "    def __init__(self, in_features, out_features, params=None, relu=True):\n",
    "        self.weight = ng.variable(dtype=weight_dtype, shape=(out_features, in_features))\n",
    "        self.bias = ng.variable(dtype=bias_dtype, shape=(self.weight.shape[0],))\n",
    "        self.scale = ng.variable(dtype=scale_dtype, shape=(self.weight.shape[0],))\n",
    "\n",
    "        self.relu = relu\n",
    "        self.set(params)\n",
    "    def set(self, params=None):\n",
    "        self.scale.set_value(np.ones(self.scale.shape))\n",
    "        if params is not None:\n",
    "            self.weight.set_value(params.weight.detach().numpy())\n",
    "            self.bias.set_value(params.bias.detach().numpy())\n",
    "    def set_weight(self, w):\n",
    "        if torch.is_tensor(w):\n",
    "            w = w.detach().numpy()\n",
    "        self.weight.set_value(w)\n",
    "    def set_bias(self, w):\n",
    "        if torch.is_tensor(w):\n",
    "            w = w.detach().numpy()\n",
    "        self.bias.set_value(w)\n",
    "    def forward(self, x):\n",
    "        out = ng.matmul(x, self.weight, bias=self.bias, scale=self.scale, transposed_b=True,\n",
    "                        act_func=ng.relu if self.relu else None,\n",
    "                        dtype=act_dtype, sum_dtype=sum_dtype)\n",
    "        return out"
   ]
  },
  {
   "cell_type": "code",
   "execution_count": 27,
   "metadata": {},
   "outputs": [
    {
     "name": "stdout",
     "output_type": "stream",
     "text": [
      "(1, 7, 7, 512)\n"
     ]
    }
   ],
   "source": [
    "nx = ng.placeholder(dtype=act_dtype, shape=(batchsize, 224, 224, 3), name=\"nx\")\n",
    "ny1 = Conv(3, 64, vgg11.features[0]).forward(nx)\n",
    "ny2 = Conv(64, 128, vgg11.features[3]).forward(ny1)\n",
    "ny3 = Conv(128, 256, vgg11.features[6], False).forward(ny2)\n",
    "ny4 = Conv(256, 256, vgg11.features[8]).forward(ny3)\n",
    "ny5 = Conv(256, 512, vgg11.features[11], False).forward(ny4)\n",
    "ny6 = Conv(512, 512, vgg11.features[13]).forward(ny5)\n",
    "ny7 = Conv(512, 512, vgg11.features[16], False).forward(ny6)\n",
    "ny = Conv(512, 512, vgg11.features[18]).forward(ny7)\n",
    "print(ny.shape)"
   ]
  },
  {
   "cell_type": "code",
   "execution_count": 28,
   "metadata": {},
   "outputs": [
    {
     "name": "stdout",
     "output_type": "stream",
     "text": [
      "(1, 1000)\n"
     ]
    }
   ],
   "source": [
    "nz1 = ng.reshape(ng.transpose(ny, (0, 3, 1, 2)), [batchsize, -1])\n",
    "nzl2 = Linear(25088, 4096, vgg11.classifier[0])\n",
    "nz2 = nzl2.forward(nz1)\n",
    "nzl3 = Linear(4096, 4096, vgg11.classifier[3])\n",
    "nz3 = nzl3.forward(nz2)\n",
    "nz = Linear(4096, 1000, vgg11.classifier[6], False).forward(nz3)\n",
    "print(nz.shape)\n",
    "\n",
    "nzcl = Linear(4096, 1, None, False)\n",
    "nzcl.set_weight(vgg11.classifier[6].weight[ans][None])\n",
    "nzcl.set_bias(vgg11.classifier[6].bias[ans][None])\n",
    "nzc = nzcl.forward(nz3)"
   ]
  },
  {
   "cell_type": "code",
   "execution_count": 29,
   "metadata": {},
   "outputs": [
    {
     "name": "stdout",
     "output_type": "stream",
     "text": [
      "64\n"
     ]
    }
   ],
   "source": [
    "imagenet_mean = np.array([0.485, 0.456, 0.406]).astype(np.float32)\n",
    "imagenet_std = np.array([0.229, 0.224, 0.225]).astype(np.float32)\n",
    "\n",
    "if act_dtype.width > 8:\n",
    "    act_scale_factor = 128\n",
    "else:\n",
    "    act_scale_factor = int(round(2 ** (act_dtype.width - 1) * 0.5))\n",
    "print(act_scale_factor)\n",
    "\n",
    "input_scale_factors = {'nx': act_scale_factor}\n",
    "input_means = {'nx': imagenet_mean * act_scale_factor}\n",
    "input_stds = {'nx': imagenet_std * act_scale_factor}\n",
    "\n",
    "ng.quantize([nz, nzc], input_scale_factors, input_means, input_stds)"
   ]
  },
  {
   "cell_type": "code",
   "execution_count": 30,
   "metadata": {},
   "outputs": [
    {
     "name": "stdout",
     "output_type": "stream",
     "text": [
      "(1, 224, 224, 3)\n",
      "[ 85 116 128]\n"
     ]
    }
   ],
   "source": [
    "# img_path = \"african_elephant.jpg\"\n",
    "img = Image.open(img_path)\n",
    "img = torchvision.models.VGG11_Weights.IMAGENET1K_V1.transforms()(img)\n",
    "img = img.numpy().transpose((1, 2, 0))[None]\n",
    "print(img.shape)\n",
    "\n",
    "img = np.clip(img, -3.0, 3.0)\n",
    "img = img * act_scale_factor\n",
    "img = np.clip(img, -1 * 2 ** (act_dtype.width - 1) - 1, 2 ** (act_dtype.width - 1))\n",
    "img = np.round(img).astype(np.int64)\n",
    "print(img[0][0][0])"
   ]
  },
  {
   "cell_type": "code",
   "execution_count": 31,
   "metadata": {},
   "outputs": [
    {
     "name": "stdout",
     "output_type": "stream",
     "text": [
      "[[127]]\n",
      "[ -8  -1 -12 -17 -20]\n",
      "\n"
     ]
    }
   ],
   "source": [
    "print(ng.eval([nzc], nx=img)[0])\n",
    "\n",
    "gradient = ng.gradient(nzc, nz1)\n",
    "print(gradient[0][:5], end='\\n\\n')"
   ]
  },
  {
   "cell_type": "code",
   "execution_count": 32,
   "metadata": {},
   "outputs": [
    {
     "name": "stdout",
     "output_type": "stream",
     "text": [
      "(7, 7)\n"
     ]
    }
   ],
   "source": [
    "def relu(x):\n",
    "    return np.where(x > 0, x, np.zeros_like(x))\n",
    "\n",
    "ndA = gradient[0].reshape((512, 7, 7))\n",
    "nA = ng.eval([ny], nx=img)[0][0]\n",
    "\n",
    "nw = ndA.sum((1, 2)) / 49\n",
    "nwA = (np.tile(nw, (7, 7, 1))) * nA\n",
    "ncam = relu(nwA.sum(2))\n",
    "print(ncam.shape)"
   ]
  },
  {
   "cell_type": "code",
   "execution_count": 33,
   "metadata": {},
   "outputs": [
    {
     "data": {
      "text/plain": [
       "<matplotlib.colorbar.Colorbar at 0x7fb444e5ceb0>"
      ]
     },
     "execution_count": 33,
     "metadata": {},
     "output_type": "execute_result"
    },
    {
     "data": {
      "image/png": "[encoded data removed]",
      "text/plain": [
       "<Figure size 640x480 with 2 Axes>"
      ]
     },
     "metadata": {},
     "output_type": "display_data"
    }
   ],
   "source": [
    "plt.imshow(ncam)\n",
    "plt.colorbar()"
   ]
  },
  {
   "cell_type": "code",
   "execution_count": 34,
   "metadata": {},
   "outputs": [
    {
     "data": {
      "text/plain": [
       "0.9905775212636213"
      ]
     },
     "execution_count": 34,
     "metadata": {},
     "output_type": "execute_result"
    }
   ],
   "source": [
    "def corrcoef(x, y):\n",
    "    if torch.is_tensor(x):\n",
    "        x = x.detach().numpy()\n",
    "        if len(x.shape) == 4:\n",
    "            x = x.transpose(0, 2, 3, 1)\n",
    "    if torch.is_tensor(y):\n",
    "        y = y.detach().numpy()\n",
    "        if len(y.shape) == 4:\n",
    "            y = y.transpose(0, 2, 3, 1)\n",
    "    return np.corrcoef(x.flatten(), y.flatten())[0][1]\n",
    "\n",
    "corrcoef(tcam, ncam)"
   ]
  },
  {
   "cell_type": "code",
   "execution_count": 24,
   "metadata": {},
   "outputs": [
    {
     "name": "stdout",
     "output_type": "stream",
     "text": [
      "0.8054304760109653\n",
      "0.7938817255322954\n"
     ]
    }
   ],
   "source": [
    "fpga_cam = np.array([[  2.30144113e+08,   1.53245325e+09,   3.86082359e+09,\n",
    "          0.00000000e+00,   4.10726746e+09,   6.46236194e+09,\n",
    "          8.51894387e+09],\n",
    "       [  6.96175078e+09,   3.43408405e+09,   3.15011091e+09,\n",
    "          4.81103605e+09,   1.21619479e+10,   4.21347738e+10,\n",
    "          4.14697889e+10],\n",
    "       [  5.75575732e+09,   1.94265342e+10,   2.40551290e+10,\n",
    "          1.23894021e+10,   4.29850540e+09,   2.22709218e+10,\n",
    "          3.28084500e+10],\n",
    "       [  4.56033886e+09,   1.80014318e+10,   2.38389951e+10,\n",
    "          2.41830105e+10,   9.72539707e+09,   1.42043347e+10,\n",
    "          1.32031029e+10],\n",
    "       [  4.46540143e+09,   6.84790706e+09,   1.20521503e+10,\n",
    "          1.22199356e+10,   7.87208064e+09,   7.97709376e+09,\n",
    "          5.40372130e+09],\n",
    "       [  1.90297766e+09,   2.06303371e+09,   2.14761272e+09,\n",
    "          2.29955588e+09,   2.36880743e+09,   1.58549444e+09,\n",
    "          4.69190061e+09],\n",
    "       [  8.19287995e+09,   4.35552580e+09,   4.16822780e+09,\n",
    "          4.78458318e+09,   4.60260678e+09,   4.06525034e+09,\n",
    "          7.14524288e+09]])\n",
    "print(corrcoef(tcam, fpga_cam))\n",
    "print(corrcoef(ncam, fpga_cam))"
   ]
  },
  {
   "cell_type": "code",
   "execution_count": null,
   "metadata": {},
   "outputs": [],
   "source": []
  }
 ],
 "metadata": {
  "kernelspec": {
   "display_name": "Python 3.10.6 ('venv')",
   "language": "python",
   "name": "python3"
  },
  "language_info": {
   "codemirror_mode": {
    "name": "ipython",
    "version": 3
   },
   "file_extension": ".py",
   "mimetype": "text/x-python",
   "name": "python",
   "nbconvert_exporter": "python",
   "pygments_lexer": "ipython3",
   "version": "3.10.6"
  },
  "orig_nbformat": 4,
  "vscode": {
   "interpreter": {
    "hash": "1839b3f27d8db7535430f9fe6c8ce376e236c506b40975d981ff9c8483008055"
   }
  }
 },
 "nbformat": 4,
 "nbformat_minor": 2
}
